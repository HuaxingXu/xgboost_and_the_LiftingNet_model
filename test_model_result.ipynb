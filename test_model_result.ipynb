{
 "cells": [
  {
   "cell_type": "code",
   "execution_count": 1,
   "metadata": {},
   "outputs": [
    {
     "name": "stderr",
     "output_type": "stream",
     "text": [
      "/usr/local/lib/python3.5/dist-packages/tensorflow/python/framework/dtypes.py:516: FutureWarning: Passing (type, 1) or '1type' as a synonym of type is deprecated; in a future version of numpy, it will be understood as (type, (1,)) / '(1,)type'.\n",
      "  _np_qint8 = np.dtype([(\"qint8\", np.int8, 1)])\n",
      "/usr/local/lib/python3.5/dist-packages/tensorflow/python/framework/dtypes.py:517: FutureWarning: Passing (type, 1) or '1type' as a synonym of type is deprecated; in a future version of numpy, it will be understood as (type, (1,)) / '(1,)type'.\n",
      "  _np_quint8 = np.dtype([(\"quint8\", np.uint8, 1)])\n",
      "/usr/local/lib/python3.5/dist-packages/tensorflow/python/framework/dtypes.py:518: FutureWarning: Passing (type, 1) or '1type' as a synonym of type is deprecated; in a future version of numpy, it will be understood as (type, (1,)) / '(1,)type'.\n",
      "  _np_qint16 = np.dtype([(\"qint16\", np.int16, 1)])\n",
      "/usr/local/lib/python3.5/dist-packages/tensorflow/python/framework/dtypes.py:519: FutureWarning: Passing (type, 1) or '1type' as a synonym of type is deprecated; in a future version of numpy, it will be understood as (type, (1,)) / '(1,)type'.\n",
      "  _np_quint16 = np.dtype([(\"quint16\", np.uint16, 1)])\n",
      "/usr/local/lib/python3.5/dist-packages/tensorflow/python/framework/dtypes.py:520: FutureWarning: Passing (type, 1) or '1type' as a synonym of type is deprecated; in a future version of numpy, it will be understood as (type, (1,)) / '(1,)type'.\n",
      "  _np_qint32 = np.dtype([(\"qint32\", np.int32, 1)])\n",
      "/usr/local/lib/python3.5/dist-packages/tensorflow/python/framework/dtypes.py:525: FutureWarning: Passing (type, 1) or '1type' as a synonym of type is deprecated; in a future version of numpy, it will be understood as (type, (1,)) / '(1,)type'.\n",
      "  np_resource = np.dtype([(\"resource\", np.ubyte, 1)])\n",
      "/usr/local/lib/python3.5/dist-packages/tensorboard/compat/tensorflow_stub/dtypes.py:541: FutureWarning: Passing (type, 1) or '1type' as a synonym of type is deprecated; in a future version of numpy, it will be understood as (type, (1,)) / '(1,)type'.\n",
      "  _np_qint8 = np.dtype([(\"qint8\", np.int8, 1)])\n",
      "/usr/local/lib/python3.5/dist-packages/tensorboard/compat/tensorflow_stub/dtypes.py:542: FutureWarning: Passing (type, 1) or '1type' as a synonym of type is deprecated; in a future version of numpy, it will be understood as (type, (1,)) / '(1,)type'.\n",
      "  _np_quint8 = np.dtype([(\"quint8\", np.uint8, 1)])\n",
      "/usr/local/lib/python3.5/dist-packages/tensorboard/compat/tensorflow_stub/dtypes.py:543: FutureWarning: Passing (type, 1) or '1type' as a synonym of type is deprecated; in a future version of numpy, it will be understood as (type, (1,)) / '(1,)type'.\n",
      "  _np_qint16 = np.dtype([(\"qint16\", np.int16, 1)])\n",
      "/usr/local/lib/python3.5/dist-packages/tensorboard/compat/tensorflow_stub/dtypes.py:544: FutureWarning: Passing (type, 1) or '1type' as a synonym of type is deprecated; in a future version of numpy, it will be understood as (type, (1,)) / '(1,)type'.\n",
      "  _np_quint16 = np.dtype([(\"quint16\", np.uint16, 1)])\n",
      "/usr/local/lib/python3.5/dist-packages/tensorboard/compat/tensorflow_stub/dtypes.py:545: FutureWarning: Passing (type, 1) or '1type' as a synonym of type is deprecated; in a future version of numpy, it will be understood as (type, (1,)) / '(1,)type'.\n",
      "  _np_qint32 = np.dtype([(\"qint32\", np.int32, 1)])\n",
      "/usr/local/lib/python3.5/dist-packages/tensorboard/compat/tensorflow_stub/dtypes.py:550: FutureWarning: Passing (type, 1) or '1type' as a synonym of type is deprecated; in a future version of numpy, it will be understood as (type, (1,)) / '(1,)type'.\n",
      "  np_resource = np.dtype([(\"resource\", np.ubyte, 1)])\n"
     ]
    },
    {
     "data": {
      "text/html": [
       "        <script type=\"text/javascript\">\n",
       "        window.PlotlyConfig = {MathJaxConfig: 'local'};\n",
       "        if (window.MathJax) {MathJax.Hub.Config({SVG: {font: \"STIX-Web\"}});}\n",
       "        if (typeof require !== 'undefined') {\n",
       "        require.undef(\"plotly\");\n",
       "        requirejs.config({\n",
       "            paths: {\n",
       "                'plotly': ['https://cdn.plot.ly/plotly-latest.min']\n",
       "            }\n",
       "        });\n",
       "        require(['plotly'], function(Plotly) {\n",
       "            window._Plotly = Plotly;\n",
       "        });\n",
       "        }\n",
       "        </script>\n",
       "        "
      ]
     },
     "metadata": {},
     "output_type": "display_data"
    }
   ],
   "source": [
    "import tensorflow as tf\n",
    "import numpy as np\n",
    "import math\n",
    "import glob\n",
    "import matplotlib\n",
    "\n",
    "import matplotlib.pyplot as plt\n",
    "from matplotlib.pyplot import plot,savefig\n",
    "from dataset import *\n",
    "\n",
    "from sklearn.datasets import load_iris\n",
    "import xgboost as xgb\n",
    "import sklearn as sk\n",
    "from xgboost import plot_importance\n",
    "from sklearn.model_selection import train_test_split\n",
    "from sklearn.model_selection import cross_val_score, cross_validate\n",
    "from sklearn.decomposition import PCA\n",
    "import mylib as ml2\n",
    "from mylib import LiftNet, create_LiftNet, create_Standard_LiftNet, Standard_LiftNet, create_Standard_LiftNet_CWRU\n",
    "\n",
    "from plotly.graph_objs import Scatter,Layout\n",
    "import plotly\n",
    "import plotly.offline as py\n",
    "import plotly.graph_objs as go\n",
    "from plotly.offline import download_plotlyjs, init_notebook_mode, plot, iplot\n",
    "from plotly.subplots import make_subplots\n",
    "import pandas as pd\n",
    "import plotly.figure_factory as ff\n",
    "\n",
    "from xgboost import XGBClassifier\n",
    "from sklearn.model_selection import KFold\n",
    "from sklearn.metrics import confusion_matrix\n",
    "\n",
    "import seaborn as sea\n",
    "\n",
    "#setting offilne\n",
    "plotly.offline.init_notebook_mode(connected=True)\n"
   ]
  },
  {
   "cell_type": "code",
   "execution_count": 2,
   "metadata": {},
   "outputs": [
    {
     "name": "stdout",
     "output_type": "stream",
     "text": [
      "set default parameters\n"
     ]
    }
   ],
   "source": [
    "#------------------------default parameters-----------------------#\n",
    "test_rate = 0.2\n",
    "epochs = 1000\n",
    "\n",
    "lr=0.015\n",
    "momentum=0.8\n",
    "\n",
    "decay=0.01\n",
    "\n",
    "validation_split=0.2\n",
    "steps_per_epoch=1\n",
    "validation_steps=1\n",
    "bunch_steps = 100\n",
    "snapshot = 500\n",
    "bunch_steps = 100\n",
    "snapshot = 500\n",
    "print('set default parameters')"
   ]
  },
  {
   "cell_type": "code",
   "execution_count": 228,
   "metadata": {},
   "outputs": [
    {
     "name": "stdout",
     "output_type": "stream",
     "text": [
      "dataset shape :  (832, 1024, 2)\n",
      "label shape :  (832, 1)\n",
      "set adjustable parameters\n"
     ]
    }
   ],
   "source": [
    "#------------------------adjustable parameters-----------------------#\n",
    "model_path = ['/media/silverbullet/data_and_programing_file/newpaper/code/code1226/model/circle_1_to_6_in_our_data/', \n",
    "              '/media/silverbullet/data_and_programing_file/newpaper/code/code1226/model/circle_7_to_16_in_our_data_with_0.01_noise_data/',\n",
    "              '/media/silverbullet/data_and_programing_file/newpaper/code/code1226/model/model_in_CWRU_data/']\n",
    "model_head_name = ['Standard_LiftingNet_',\n",
    "                   'Standard_LiftingNet_use_expansion_data__with_',\n",
    "                   'Standard_expansion_CWRU_data_LiftingNet__with_',\n",
    "                  'Standard_LiftingNet_use_expansion_data_',\n",
    "                  'Standard_expansion_CWRU_data_LiftingNet_']\n",
    "\n",
    "data_path = ['/media/silverbullet/data_and_programing_file/newpaper/dataset/newdataset/','/media/silverbullet/data_and_programing_file/newpaper/dataset/CWRU/CWRUdataset']\n",
    "\n",
    "class_num = 6\n",
    "circle_num = 16\n",
    "cutsize = 256\n",
    "steps = 600\n",
    "whether_use_CWRU_data = 1\n",
    "LiftingNet_noise_scale = 2\n",
    "whether_expansion_data = 1\n",
    "expansion_data_number = 500\n",
    "noise_scales = 0.01\n",
    "if whether_use_CWRU_data==1:\n",
    "    noise_scales = LiftingNet_noise_scale\n",
    "\n",
    "#artificial_feature_method: 1 is 19 features, 2 is 9 features\n",
    "artificial_feature_method = 2\n",
    "\n",
    "pca_parameters = 27\n",
    "\n",
    "if whether_use_CWRU_data == 1:\n",
    "    cutsize = 1024\n",
    "    input_shape = (cutsize,2)\n",
    "    channel = 2\n",
    "    dataset, label = load_CWRU_data(data_path[1])\n",
    "    read_model_name = model_path[2]+model_head_name[2]+str(LiftingNet_noise_scale)+'_noise_'+str(cutsize)+'_data_the_'+str(steps)+'th_snapshot_with_'+str(steps_per_epoch)+'_steps_per_epoch.h5'\n",
    "    if LiftingNet_noise_scale == 0:\n",
    "        read_model_name = model_path[2]+model_head_name[4]+str(cutsize)+'_data_the_'+str(steps)+'th_snapshot_with_'+str(steps_per_epoch)+'_steps_per_epoch.h5'\n",
    "else:\n",
    "    cutsize = 256\n",
    "    input_shape = (640*circle_num,3)\n",
    "    channel = 3\n",
    "    dataset, label = load_dataset(data_path[0], circle_num=circle_num, cutsize=cutsize)\n",
    "    if circle_num<7:\n",
    "        read_model_name = model_path[0] + model_head_name[0]+str(circle_num)+'_data_the_'+str(steps)+'th_snapshot_with_'+str(steps_per_epoch)+'_steps_per_epoch.h5'\n",
    "    else:\n",
    "        read_model_name = model_path[1] + model_head_name[1]+str(LiftingNet_noise_scale)+'_noise_'+str(circle_num)+'_data_the_'+str(steps)+'th_snapshot_with_'+str(steps_per_epoch)+'_steps_per_epoch.h5'\n",
    "\n",
    "if circle_num==8:\n",
    "    read_model_name= model_path[1] + model_head_name[3] +  str(circle_num)+'_data_the_'+str(steps)+'th_snapshot_with_'+str(steps_per_epoch)+'_steps_per_epoch.h5'\n",
    "\n",
    "print('set adjustable parameters')"
   ]
  },
  {
   "cell_type": "code",
   "execution_count": 229,
   "metadata": {},
   "outputs": [
    {
     "name": "stdout",
     "output_type": "stream",
     "text": [
      "(237, 1024, 2)\n",
      "(118, 1024, 2)\n",
      "(117, 1024, 2)\n",
      "(118, 1024, 2)\n",
      "(118, 1024, 2)\n",
      "(118, 1024, 2)\n",
      "(500, 1024, 2)\n",
      "(500, 1)\n",
      "(500, 1024, 2)\n",
      "(500, 1)\n",
      "(500, 1024, 2)\n",
      "(500, 1)\n",
      "(500, 1024, 2)\n",
      "(500, 1)\n",
      "(500, 1024, 2)\n",
      "(500, 1)\n",
      "(500, 1024, 2)\n",
      "(500, 1)\n",
      "(3000, 1024, 2)\n",
      "(3000, 1)\n",
      "data_max_abs_x.shape:  (3000, 1, 2)\n",
      "noise_data.shape:  (3000, 1024, 2)\n",
      "after expansion: \n",
      "dataset shape :  (3832, 1024, 2)\n",
      "label shape :  (3832, 1)\n",
      "data expansion\n",
      "x.shape:  (3832, 1024, 2)\n",
      "y.shape:  (3832, 1)\n",
      "x_train.shape:  (3065, 1024, 2)\n",
      "x_test.shape:  (767, 1024, 2)\n",
      "y_train.shape:  (3065, 1)\n",
      "y_test.shape:  (767, 1)\n",
      "x_train_number:  3065\n",
      "x_test_number:  767\n"
     ]
    }
   ],
   "source": [
    "#------------------------expansion data parameters-----------------------#\n",
    "\n",
    "if whether_expansion_data == 1:\n",
    "    dataset, label = expansion_and_add_noise(dataset,label,exnumber=expansion_data_number, noise_scales=noise_scales)\n",
    "    print('data expansion')\n",
    "\n",
    "#------------------------data processing---------------------------------#\n",
    "\n",
    "input_shape = (dataset.shape[1],dataset.shape[2])\n",
    "channel = dataset.shape[2]\n",
    "\n",
    "x_number = dataset.shape[0]\n",
    "\n",
    "x = dataset\n",
    "print('x.shape: ',x.shape)\n",
    "y = label\n",
    "print('y.shape: ', y.shape)\n",
    "\n",
    "x_train, x_test, y_train, y_test = train_test_split(x, y, test_size=test_rate, random_state=615)\n",
    "print('x_train.shape: ', x_train.shape)\n",
    "print('x_test.shape: ',x_test.shape)\n",
    "print('y_train.shape: ', y_train.shape)\n",
    "print('y_test.shape: ', y_test.shape)\n",
    "\n",
    "x_train_number = x_train.shape[0]\n",
    "x_test_number = x_test.shape[0]\n",
    "print('x_train_number: ',x_train_number)\n",
    "print('x_test_number: ',x_test_number)"
   ]
  },
  {
   "cell_type": "code",
   "execution_count": 230,
   "metadata": {},
   "outputs": [
    {
     "name": "stdout",
     "output_type": "stream",
     "text": [
      "p1.shape:  (3832, 2)\n",
      "p2.shape:  (3832, 2)\n",
      "p3.shape:  (3832, 2)\n",
      "p4.shape:  (3832, 2)\n",
      "p5.shape:  (3832, 2)\n",
      "p6.shape:  (3832, 2)\n",
      "p7.shape:  (3832, 2)\n",
      "p8.shape:  (3832, 2)\n",
      "p9.shape:  (3832, 2)\n",
      "artificial_feature_data.shape:  (3832, 18)\n"
     ]
    }
   ],
   "source": [
    "#------------------------------artificial features extraction-----------------------------#\n",
    "if artificial_feature_method == 1:\n",
    "    artificial_feature_data = feature_extractor(dataset)\n",
    "else:\n",
    "    artificial_feature_data = feature_extractor2(dataset)\n",
    "#artificial_feature_data = artificial_feature_data.reshape(x_number,-1)[:,:select_feature_numbers]\n",
    "artificial_feature_data = artificial_feature_data.reshape(x_number,-1)\n",
    "print('artificial_feature_data.shape: ', artificial_feature_data.shape)"
   ]
  },
  {
   "cell_type": "code",
   "execution_count": 231,
   "metadata": {
    "scrolled": true
   },
   "outputs": [
    {
     "name": "stdout",
     "output_type": "stream",
     "text": [
      "Model: \"LiftNet\"\n",
      "_________________________________________________________________\n",
      "Layer (type)                 Output Shape              Param #   \n",
      "=================================================================\n",
      "input (InputLayer)           [(None, 1024, 2)]         0         \n",
      "_________________________________________________________________\n",
      "convinputs (Conv1D)          multiple                  6         \n",
      "_________________________________________________________________\n",
      "predict1_1 (Conv1D)          multiple                  14        \n",
      "_________________________________________________________________\n",
      "predict1_2 (Conv1D)          multiple                  30        \n",
      "_________________________________________________________________\n",
      "update1_1 (Conv1D)           multiple                  62        \n",
      "_________________________________________________________________\n",
      "update1_2 (Conv1D)           multiple                  30        \n",
      "_________________________________________________________________\n",
      "predict2_1 (Conv1D)          multiple                  310       \n",
      "_________________________________________________________________\n",
      "predict2_2 (Conv1D)          multiple                  550       \n",
      "_________________________________________________________________\n",
      "update2_1 (Conv1D)           multiple                  1510      \n",
      "_________________________________________________________________\n",
      "update2_2 (Conv1D)           multiple                  550       \n",
      "_________________________________________________________________\n",
      "predict3_1 (Conv1D)          multiple                  7550      \n",
      "_________________________________________________________________\n",
      "predict3_2 (Conv1D)          multiple                  12750     \n",
      "_________________________________________________________________\n",
      "update3_1 (Conv1D)           multiple                  37550     \n",
      "_________________________________________________________________\n",
      "update3_2 (Conv1D)           multiple                  12750     \n",
      "_________________________________________________________________\n",
      "global_max_pooling1d_28 (Glo multiple                  0         \n",
      "_________________________________________________________________\n",
      "flatten_28 (Flatten)         multiple                  0         \n",
      "_________________________________________________________________\n",
      "predict (Dense)              multiple                  1506      \n",
      "=================================================================\n",
      "Total params: 75,168\n",
      "Trainable params: 75,168\n",
      "Non-trainable params: 0\n",
      "_________________________________________________________________\n",
      "load model\n"
     ]
    }
   ],
   "source": [
    "#--------------------------------load LiftingNet-------------------------------------------#\n",
    "if whether_use_CWRU_data == 1:\n",
    "    liftnet = create_Standard_LiftNet_CWRU(class_num = class_num, \n",
    "                                       channel = channel, \n",
    "                                       cut_size = cutsize, \n",
    "                                       input_shape = input_shape,\n",
    "                                       lr=lr, \n",
    "                                       momentum = momentum, \n",
    "                                       decay=decay)\n",
    "else:\n",
    "    liftnet = create_Standard_LiftNet(class_num = class_num, \n",
    "                                  channel = channel, \n",
    "                                  circle_num = circle_num, \n",
    "                                  input_shape=input_shape,\n",
    "                                  lr=lr, \n",
    "                                  momentum=momentum, \n",
    "                                  decay=decay)\n",
    "\n",
    "liftnet.load_weights(read_model_name)\n",
    "print('load model')\n"
   ]
  },
  {
   "cell_type": "code",
   "execution_count": 232,
   "metadata": {},
   "outputs": [
    {
     "name": "stdout",
     "output_type": "stream",
     "text": [
      "start extract feature\n",
      "extracted feature\n",
      "feature_data.shape:  (3832, 250)\n",
      "feature_data.shape:  (3832, 250)\n",
      "finished feature extract\n",
      "pca_feature.shape:  (3832, 27)\n"
     ]
    }
   ],
   "source": [
    "#----------------------------------LiftingNet features---------------------------------#\n",
    "print('start extract feature')\n",
    "feature_data = liftnet.feature_extractor(dataset)\n",
    "print('extracted feature')\n",
    "with tf.Session() as sess:\n",
    "    sess.run(tf.global_variables_initializer())\n",
    "    feature_data = feature_data.eval()\n",
    "#feature_data = tf.Session().run(feature_data)\n",
    "#sess = tf.InteractiveSession()\n",
    "#feature_data = feature_data.eval()\n",
    "#print(feature_data)\n",
    "print('feature_data.shape: ', feature_data.shape)\n",
    "feature_data = np.reshape(feature_data,(feature_data.shape[0],feature_data.shape[1]))\n",
    "#feature_data = np.concatenate(dataset,axis=2)\n",
    "print('feature_data.shape: ', feature_data.shape)\n",
    "print('finished feature extract')\n",
    "pca_feature_extractor = PCA(n_components=pca_parameters)\n",
    "pca_feature_extractor.fit(feature_data)\n",
    "pca_feature = pca_feature_extractor.transform(feature_data)\n",
    "print('pca_feature.shape: ', pca_feature.shape)\n"
   ]
  },
  {
   "cell_type": "code",
   "execution_count": 233,
   "metadata": {},
   "outputs": [
    {
     "name": "stdout",
     "output_type": "stream",
     "text": [
      "x.shape:  (3832, 45)\n",
      "y.shape:  (3832,)\n",
      "X_train.shape:  (3065, 45)\n",
      "X_test.shape:  (767, 45)\n",
      "y_train.shape:  (3065,)\n",
      "y_test.shape:  (767,)\n"
     ]
    }
   ],
   "source": [
    "#--------------------------create xgboost train dataset---------------------------#\n",
    "x = pca_feature.reshape(x_number,-1)\n",
    "\n",
    "#x = feature_data.reshape(x_number,-1)\n",
    "x = np.concatenate((x,artificial_feature_data),axis=1)\n",
    "print('x.shape: ',x.shape)\n",
    "\n",
    "y = label.reshape(x_number,)\n",
    "print('y.shape: ', y.shape)\n",
    "\n",
    "X_train, X_test, y_train, y_test = train_test_split(x, y, test_size=test_rate, random_state=99)\n",
    "\n",
    "print('X_train.shape: ', X_train.shape)\n",
    "print('X_test.shape: ',X_test.shape)\n",
    "print('y_train.shape: ', y_train.shape)\n",
    "print('y_test.shape: ', y_test.shape)"
   ]
  },
  {
   "cell_type": "code",
   "execution_count": 234,
   "metadata": {
    "scrolled": true
   },
   "outputs": [
    {
     "name": "stdout",
     "output_type": "stream",
     "text": [
      "ans.shape:  (767,)\n",
      "normal result:\n",
      "tp: 144  tn: 1  fp: 2  fn: 620\n",
      "tp/(tp+tn):  0.993103448275862\n",
      "tp/(tp+fp):  0.9863013698630136\n",
      "inner_ring result:\n",
      "tp: 109  tn: 2  fp: 2  fn: 654\n",
      "tp/(tp+tn):  0.9819819819819819\n",
      "tp/(tp+fp):  0.9819819819819819\n",
      "outer_ring result:\n",
      "tp: 111  tn: 8  fp: 11  fn: 637\n",
      "tp/(tp+tn):  0.9327731092436975\n",
      "tp/(tp+fp):  0.9098360655737705\n",
      "roller result:\n",
      "tp: 132  tn: 2  fp: 12  fn: 621\n",
      "tp/(tp+tn):  0.9850746268656716\n",
      "tp/(tp+fp):  0.9166666666666666\n",
      "joint result:\n",
      "tp: 113  tn: 7  fp: 2  fn: 645\n",
      "tp/(tp+tn):  0.9416666666666667\n",
      "tp/(tp+fp):  0.9826086956521739\n",
      "Accuracy: 95.05 % \n"
     ]
    }
   ],
   "source": [
    "#---------------------------XGBoost------------------------------#\n",
    "model = XGBClassifier(learning_rate=0.1,\n",
    "                        n_estimators=1000,         # 树的个数--1000棵树建立xgboost\n",
    "                        max_depth=16,               # 树的深度\n",
    "                        min_child_weight = 1,      # 叶子节点最小权重\n",
    "                        gamma=0.1,                  # 惩罚项中叶子结点个数前的参数\n",
    "                        subsample=0.8,             # 随机选择80%样本建立决策树\n",
    "                        colsample_btree=0.8,       # 随机选择80%特征建立决策树\n",
    "                        objective='multi:softmax', # 指定损失函数\n",
    "                        scale_pos_weight=1,        # 解决样本个数不平衡的问题\n",
    "                        )\n",
    "\n",
    "model.fit(X_train,y_train)\n",
    "# 对测试集进行预测\n",
    "#dtest = xgb.DMatrix(X_test)\n",
    "#ans = model.predict(dtest)\n",
    "ans = model.predict(X_test)\n",
    "print('ans.shape: ', ans.shape)\n",
    "ml2.evaluate_model2(ans, y_test)\n",
    "# 计算准确率\n",
    "cnt1 = 0\n",
    "cnt2 = 0\n",
    "\n",
    "for i in range(len(y_test)):\n",
    "    if ans[i] == y_test[i]:\n",
    "        cnt1 += 1\n",
    "    else:\n",
    "        cnt2 += 1\n",
    "print(\"Accuracy: %.2f %% \" % (100 * cnt1 / (cnt1 + cnt2)))\n",
    "\n",
    "\n"
   ]
  },
  {
   "cell_type": "code",
   "execution_count": 235,
   "metadata": {},
   "outputs": [
    {
     "name": "stdout",
     "output_type": "stream",
     "text": [
      "[[144   1   0   0   0   0]\n",
      " [  2 109   0   0   0   0]\n",
      " [  0   0 111   0   0   8]\n",
      " [  0   0   0 132   2   0]\n",
      " [  0   0   0   6 113   1]\n",
      " [  0   1  11   6   0 120]]\n"
     ]
    },
    {
     "data": {
      "text/plain": [
       "'#-------------------------------plot confusion matrix------------------------#\\ncm = confusion_matrix(y_test, ans)\\nlabel_name1 = [\\'NORMAL\\', \\'IR\\', \\'OR\\', \\'BALL\\', \\'JOINT\\']\\nlabel_name2 = [\\'NORMAL\\', \\'BALL\\', \\'IR\\', \\'OR_3\\', \\'OR_6\\', \\'OR_12\\']\\n\\nif whether_use_CWRU_data == 1:\\n    label_name = label_name2\\nelse:\\n    label_name = label_name1\\n\\ncm = cm.astype(\\'int32\\')\\n\\ncmap = sea.cubehelix_palette(start = 1.5, rot = 3, gamma=0.8, as_cmap = True)\\n#f, (ax1,ax2) = plt.subplots(figsize = (10,10),nrows=2)\\nf= plt.figure(figsize = (16,9))\\nax1 = f.add_subplot(1,1,1)\\n\\n#sea.heatmap(cm,annot=True,ax= ax1, linewidths=0.05, cmap=\\'rainbow\\',fmt=\\'d\\')\\nsea.heatmap(cm,annot=True,ax= ax1, linewidths=0.05, cmap=cmap,fmt=\\'d\\')\\nax1.set_title(\"Confusion Matrix\")\\nax1.set_xlabel(\\'Predict\\')\\nax1.set_ylabel(\\'True\\')\\nax1.set_xticklabels(label_name)\\nax1.set_yticklabels(label_name)\\n\\n#plot_confusion_matrix(cm, label_name, \"Confusion Matrix\")\\nprint(cm)\\nplt.savefig(\\'Confusion Matrix.png\\', format=\\'png\\')'"
      ]
     },
     "execution_count": 235,
     "metadata": {},
     "output_type": "execute_result"
    },
    {
     "data": {
      "image/png": "[encoded data removed]",
      "text/plain": [
       "<Figure size 1152x648 with 2 Axes>"
      ]
     },
     "metadata": {
      "needs_background": "light"
     },
     "output_type": "display_data"
    }
   ],
   "source": [
    "#-------------------------------plot confusion matrix------------------------#\n",
    "\n",
    "label_name1 = ['NORMAL', 'IR', 'OR', 'BALL', 'JOINT']\n",
    "label_name2 = ['NORMAL', 'BALL', 'IR', 'OR_3', 'OR_6', 'OR_12']\n",
    "\n",
    "if whether_use_CWRU_data == 1:\n",
    "    label_name = label_name2\n",
    "else:\n",
    "    label_name = label_name1\n",
    "\n",
    "save_confusion_path1 = '/media/silverbullet/data_and_programing_file/newpaper/code/code1226/confusion_matrix/ourdata'\n",
    "save_confusion_path2 = '/media/silverbullet/data_and_programing_file/newpaper/code/code1226/confusion_matrix/CWRUdata'\n",
    "\n",
    "if whether_use_CWRU_data == 1:\n",
    "    save_fig_name = save_confusion_path2 + '/CWRU_data_model_in_' + str(LiftingNet_noise_scale) + '_noise_to_test_' + str(noise_scales) + '_noise_scale_data_confusion_matrix.png'\n",
    "else:\n",
    "    save_fig_name = save_confusion_path1 + '/Our_data_model_in_' + str(circle_num) + '_circles_model_to_test_' + str(noise_scales) + '_noise_expansion_data_confusion_matrix.png'\n",
    "\n",
    "\n",
    "plot_confusion_matrix(ans,y_test,label_name, save_name=save_fig_name)\n",
    "\n",
    "\n",
    "\"\"\"#-------------------------------plot confusion matrix------------------------#\n",
    "cm = confusion_matrix(y_test, ans)\n",
    "label_name1 = ['NORMAL', 'IR', 'OR', 'BALL', 'JOINT']\n",
    "label_name2 = ['NORMAL', 'BALL', 'IR', 'OR_3', 'OR_6', 'OR_12']\n",
    "\n",
    "if whether_use_CWRU_data == 1:\n",
    "    label_name = label_name2\n",
    "else:\n",
    "    label_name = label_name1\n",
    "\n",
    "cm = cm.astype('int32')\n",
    "\n",
    "cmap = sea.cubehelix_palette(start = 1.5, rot = 3, gamma=0.8, as_cmap = True)\n",
    "#f, (ax1,ax2) = plt.subplots(figsize = (10,10),nrows=2)\n",
    "f= plt.figure(figsize = (16,9))\n",
    "ax1 = f.add_subplot(1,1,1)\n",
    "\n",
    "#sea.heatmap(cm,annot=True,ax= ax1, linewidths=0.05, cmap='rainbow',fmt='d')\n",
    "sea.heatmap(cm,annot=True,ax= ax1, linewidths=0.05, cmap=cmap,fmt='d')\n",
    "ax1.set_title(\"Confusion Matrix\")\n",
    "ax1.set_xlabel('Predict')\n",
    "ax1.set_ylabel('True')\n",
    "ax1.set_xticklabels(label_name)\n",
    "ax1.set_yticklabels(label_name)\n",
    "\n",
    "#plot_confusion_matrix(cm, label_name, \"Confusion Matrix\")\n",
    "print(cm)\n",
    "plt.savefig('Confusion Matrix.png', format='png')\"\"\"\n"
   ]
  },
  {
   "cell_type": "code",
   "execution_count": 211,
   "metadata": {
    "scrolled": true
   },
   "outputs": [
    {
     "data": {
      "text/plain": [
       "\"\\n#---------------------------K Fold-------------------------------------------#\\nscoring = ['precision_macro', 'recall_macro']\\nscores = cross_validate(model, X_train, y_train, scoring=scoring,cv=10, return_train_score=True)\\nsorted(scores.keys())\\nprint('test result:')\\nprint(scores)\\nscores_df = pd.DataFrame(scores)\\n\\n#table_header = ['test_recall_macro', 'train_recall_macro','fit_time', 'train_precision_macro','test_precision_macro']\\n\\nscores_df\\n\\n\""
      ]
     },
     "execution_count": 211,
     "metadata": {},
     "output_type": "execute_result"
    }
   ],
   "source": [
    "\"\"\"\n",
    "#---------------------------K Fold-------------------------------------------#\n",
    "scoring = ['precision_macro', 'recall_macro']\n",
    "scores = cross_validate(model, X_train, y_train, scoring=scoring,cv=10, return_train_score=True)\n",
    "sorted(scores.keys())\n",
    "print('test result:')\n",
    "print(scores)\n",
    "scores_df = pd.DataFrame(scores)\n",
    "\n",
    "#table_header = ['test_recall_macro', 'train_recall_macro','fit_time', 'train_precision_macro','test_precision_macro']\n",
    "\n",
    "scores_df\n",
    "\n",
    "\"\"\""
   ]
  },
  {
   "cell_type": "code",
   "execution_count": null,
   "metadata": {},
   "outputs": [],
   "source": []
  },
  {
   "cell_type": "code",
   "execution_count": null,
   "metadata": {},
   "outputs": [],
   "source": []
  }
 ],
 "metadata": {
  "kernelspec": {
   "display_name": "Python 3",
   "language": "python",
   "name": "python3"
  },
  "language_info": {
   "codemirror_mode": {
    "name": "ipython",
    "version": 3
   },
   "file_extension": ".py",
   "mimetype": "text/x-python",
   "name": "python",
   "nbconvert_exporter": "python",
   "pygments_lexer": "ipython3",
   "version": "3.5.2"
  }
 },
 "nbformat": 4,
 "nbformat_minor": 2
}
